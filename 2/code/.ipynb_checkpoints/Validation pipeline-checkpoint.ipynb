{
 "cells": [
  {
   "cell_type": "markdown",
   "metadata": {},
   "source": [
    "#  Validation of the model"
   ]
  },
  {
   "cell_type": "code",
   "execution_count": 34,
   "metadata": {
    "ExecuteTime": {
     "end_time": "2020-02-29T18:11:58.636363Z",
     "start_time": "2020-02-29T18:11:56.521268Z"
    }
   },
   "outputs": [],
   "source": [
    "from sklearn.naive_bayes import MultinomialNB\n",
    "from sklearn.linear_model import LogisticRegression\n",
    "from sklearn.model_selection import cross_val_score\n",
    "from sklearn.tree import DecisionTreeClassifier\n",
    "from sklearn.svm import LinearSVC\n",
    "from sklearn.ensemble import  AdaBoostClassifier, RandomForestClassifier\n",
    "from sklearn.neural_network import MLPClassifier\n",
    "from xgboost import XGBClassifier\n",
    "\n",
    "from dataset.dataset import get_twenty_dataset, get_IMDB_dataset\n",
    "from main_dataset import main\n",
    "\n",
    "from sklearn.pipeline import make_pipeline\n",
    "from sklearn.pipeline import Pipeline\n",
    "from sklearn.preprocessing import StandardScaler\n",
    "from sklearn.model_selection import cross_validate\n",
    "from sklearn.model_selection import GridSearchCV\n",
    "\n",
    "import warnings\n",
    "warnings.filterwarnings('ignore')\n",
    "from sklearn.externals import joblib\n",
    "\n",
    "import numpy as np\n",
    "import pandas as pd\n",
    "from matplotlib import pyplot as plt\n",
    "from tqdm import tqdm_notebook\n",
    "from datetime import datetime\n",
    "import time\n",
    "plt.style.use('seaborn')\n",
    "%matplotlib inline"
   ]
  },
  {
   "cell_type": "markdown",
   "metadata": {},
   "source": [
    "Get dataset"
   ]
  },
  {
   "cell_type": "code",
   "execution_count": 2,
   "metadata": {
    "ExecuteTime": {
     "end_time": "2020-02-29T18:12:10.901074Z",
     "start_time": "2020-02-29T18:11:58.638297Z"
    }
   },
   "outputs": [
    {
     "name": "stdout",
     "output_type": "stream",
     "text": [
      "2\n",
      "3\n",
      "4\n",
      "5\n",
      "6\n"
     ]
    }
   ],
   "source": [
    "# We compare the condition where datasets are\n",
    "# 1. tf-idf\n",
    "# 2. tf-idf + remove_stopping_word\n",
    "# 3. tf-idf + remove_stopping_word + SVD (k=2,3,4,5,6)\n",
    "# 4. tf-idf + remove_stopping_word + autoencoder, autoencoder fails to fit such large volume data\n",
    "twenty_dataset_dict = {}\n",
    "IMDB_dataset_dict = {}\n",
    "\n",
    "# 1.\n",
    "twenty_dataset_dict[0]= list(get_twenty_dataset())\n",
    "IMDB_dataset_dict [0] = list(get_IMDB_dataset())\n",
    "\n",
    "# 2.\n",
    "twenty_dataset_dict[1]= list(get_twenty_dataset(remove_stop_word=True))\n",
    "IMDB_dataset_dict [1] = list(get_IMDB_dataset(remove_stop_word=True))\n",
    "\n",
    "# 3. \n",
    "for i in range(2,7):\n",
    "    print(i)\n",
    "    twenty_dataset_dict[i]= list(get_twenty_dataset(remove_stop_word=True,preprocessing_trick='SVD',n_components=i))\n",
    "    IMDB_dataset_dict [i] = list(get_IMDB_dataset(remove_stop_word=True,preprocessing_trick='SVD',n_components=i)) \n",
    "# x_train_20, y_train_20, x_test_20, y_test_20 = get_twenty_dataset()\n",
    "# x_train_imdb, y_train_imdb, x_test_imdb, y_test_imdb = get_IMDB_dataset()\n",
    "\n",
    "# 4.\n",
    "#twenty_dataset_dict[7]= list(get_twenty_dataset(remove_stop_word=True,preprocessing_trick='autoencoder',n_components=256))\n",
    "#IMDB_dataset_dict [7] = list(get_IMDB_dataset(remove_stop_word=True,preprocessing_trick='autoencoder',n_components=256))"
   ]
  },
  {
   "cell_type": "markdown",
   "metadata": {},
   "source": [
    "Store the name of the proposed processed data"
   ]
  },
  {
   "cell_type": "code",
   "execution_count": 58,
   "metadata": {},
   "outputs": [],
   "source": [
    "dataset_list = ['tf-idf','tf-idf, remove stopping word','SVD-2','SVD-3','SVD-4','SVD-5','SVD-6']"
   ]
  },
  {
   "cell_type": "markdown",
   "metadata": {},
   "source": [
    "20 news results"
   ]
  },
  {
   "cell_type": "code",
   "execution_count": 47,
   "metadata": {
    "ExecuteTime": {
     "end_time": "2020-02-29T18:13:05.749245Z",
     "start_time": "2020-02-29T18:12:10.903032Z"
    }
   },
   "outputs": [
    {
     "name": "stdout",
     "output_type": "stream",
     "text": [
      "multinomialNB model\n",
      "0.7320764737121614\n",
      "logistic regression model\n",
      "Decision Tree model\n",
      "0.46999468932554433\n",
      "SVM model\n",
      "0.8036378120021243\n",
      "AdaBoost model\n",
      "0.5\n",
      "Random forest model\n",
      "0.688396176314392\n",
      "MLPClassifier model\n",
      "0.7705788635156665\n"
     ]
    }
   ],
   "source": [
    "model_dict_20=main(x_train_20, y_train_20, x_test_20, y_test_20)"
   ]
  },
  {
   "cell_type": "markdown",
   "metadata": {},
   "source": [
    "IMDB data"
   ]
  },
  {
   "cell_type": "code",
   "execution_count": 4,
   "metadata": {
    "ExecuteTime": {
     "end_time": "2020-02-29T18:14:50.605241Z",
     "start_time": "2020-02-29T18:13:05.751203Z"
    }
   },
   "outputs": [
    {
     "name": "stdout",
     "output_type": "stream",
     "text": [
      "multinomialNB model\n",
      "0.82956\n",
      "logistic regression model\n",
      "Decision Tree model\n",
      "0.70416\n",
      "SVM model\n",
      "0.8772\n",
      "AdaBoost model\n",
      "0.83\n",
      "Random forest model\n",
      "0.8366\n",
      "MLPClassifier model\n",
      "0.87668\n"
     ]
    }
   ],
   "source": [
    "model_dict_imdb=main(x_train_imdb, y_train_imdb, x_test_imdb, y_test_imdb)"
   ]
  },
  {
   "cell_type": "markdown",
   "metadata": {},
   "source": [
    "# Pipeline\n",
    "We create pipelines for models that need parameter tuning and those who do not. To be noticed that it does not mean that the latter models are parameter-free, instead, it is computationally heavy to re-train these models."
   ]
  },
  {
   "cell_type": "markdown",
   "metadata": {},
   "source": [
    "## Parameter-tuning models"
   ]
  },
  {
   "cell_type": "code",
   "execution_count": 52,
   "metadata": {},
   "outputs": [],
   "source": [
    "# Define Parameter-tuning classifiers\n",
    "clf_NB = MultinomialNB()\n",
    "clf_LR = LogisticRegression()\n",
    "clf_DT = DecisionTreeClassifier()\n",
    "clf_SVC = LinearSVC()\n",
    "clf_ADB = AdaBoostClassifier()\n",
    "clf_RDF = RandomForestClassifier()\n",
    "\n",
    "models_dict = {'NB':clf_NB,'LR': clf_LR,'DT':clf_DT,'SVC':clf_SVC,'ADB':clf_ADB,'RDF':clf_RDF}\n",
    "#models_dict = {'NB':clf_NB}\n",
    "models_list = list(models_dict.items())"
   ]
  },
  {
   "cell_type": "code",
   "execution_count": 53,
   "metadata": {},
   "outputs": [],
   "source": [
    "# Define tunable parameters ranges for different classifiers\n",
    "para_NB = {'NB__alpha':np.arange(0,2,0.2),'NB__fit_prior':[True,False]}\n",
    "para_LR = {'LR__penalty':['l1','l2','elasticnet'],\n",
    "           'LR__warm_start':[True,False]}\n",
    "para_DT = {'DT__criterion':['gini','entropy'],\n",
    "           'DT__max_features': ['sqrt','log2',None]}\n",
    "para_SVC = {'SVC__penalty': ['l1','l2'],\n",
    "            'SVC__loss': ['hinge','squared_hinge']}\n",
    "para_ADB = {'ADB__n_estimators': [30,50,80,100,120],\n",
    "            'ADB__learning_rate':np.arange(0,1.2,0.2)}\n",
    "para_RDF = {'RDF__max_depth':[20,40,60],'RDF__n_estimators':[50,100,150]}\n",
    "\n",
    "params_list = [para_NB,para_LR,para_DT,para_SVC,para_ADB,para_RDF]\n",
    "#params_list = [para_NB]"
   ]
  },
  {
   "cell_type": "markdown",
   "metadata": {},
   "source": [
    "Make sure the model list is the same as parameters list"
   ]
  },
  {
   "cell_type": "code",
   "execution_count": 42,
   "metadata": {},
   "outputs": [
    {
     "name": "stdout",
     "output_type": "stream",
     "text": [
      "True\n"
     ]
    }
   ],
   "source": [
    "print( len(models_list) == len(params_list) )"
   ]
  },
  {
   "cell_type": "markdown",
   "metadata": {},
   "source": [
    "This is the model specifics which are the same for both datasets"
   ]
  },
  {
   "cell_type": "code",
   "execution_count": null,
   "metadata": {
    "scrolled": false
   },
   "outputs": [
    {
     "data": {
      "application/vnd.jupyter.widget-view+json": {
       "model_id": "80340367885742ce8da3e5aca2e48504",
       "version_major": 2,
       "version_minor": 0
      },
      "text/plain": [
       "HBox(children=(FloatProgress(value=0.0, max=6.0), HTML(value='')))"
      ]
     },
     "metadata": {},
     "output_type": "display_data"
    },
    {
     "name": "stdout",
     "output_type": "stream",
     "text": [
      "####################\n",
      "Model  NB  for 20 news  tf-idf score = 0.7463  runtime = 0.0636 s\n",
      "Model  NB  for 20 news   tf-idf best params {'NB__alpha': 0.0, 'NB__fit_prior': True}\n",
      "Model  NB  for IMDB  tf-idf score = 0.8317  runtime = 0.0636 s\n",
      "Model  NB  for IMDB  tf-idf  best params {'NB__alpha': 1.8, 'NB__fit_prior': True}\n",
      "----------\n",
      "Model  NB  for 20 news  tf-idf, remove stopping word score = 0.7979  runtime = 0.0659 s\n",
      "Model  NB  for 20 news   tf-idf, remove stopping word best params {'NB__alpha': 0.2, 'NB__fit_prior': False}\n",
      "Model  NB  for IMDB  tf-idf, remove stopping word score = 0.8380  runtime = 0.0659 s\n",
      "Model  NB  for IMDB  tf-idf, remove stopping word  best params {'NB__alpha': 1.8, 'NB__fit_prior': True}\n",
      "----------\n",
      "Model  NB  is not suitable for non-negative value in preprocessing  SVD-2\n",
      "----------\n",
      "Model  NB  is not suitable for non-negative value in preprocessing  SVD-3\n",
      "----------\n",
      "Model  NB  is not suitable for non-negative value in preprocessing  SVD-4\n",
      "----------\n",
      "Model  NB  is not suitable for non-negative value in preprocessing  SVD-5\n",
      "----------\n",
      "Model  NB  is not suitable for non-negative value in preprocessing  SVD-6\n",
      "----------\n",
      "####################\n",
      "Model  LR  for 20 news  tf-idf score = 0.7776  runtime = 28.3590 s\n",
      "Model  LR  for 20 news   tf-idf best params {'LR__penalty': 'l2', 'LR__warm_start': True}\n",
      "Model  LR  for IMDB  tf-idf score = 0.8832  runtime = 28.3590 s\n",
      "Model  LR  for IMDB  tf-idf  best params {'LR__penalty': 'l2', 'LR__warm_start': True}\n",
      "----------\n",
      "Model  LR  for 20 news  tf-idf, remove stopping word score = 0.7894  runtime = 27.4372 s\n",
      "Model  LR  for 20 news   tf-idf, remove stopping word best params {'LR__penalty': 'l2', 'LR__warm_start': True}\n",
      "Model  LR  for IMDB  tf-idf, remove stopping word score = 0.8830  runtime = 27.4372 s\n",
      "Model  LR  for IMDB  tf-idf, remove stopping word  best params {'LR__penalty': 'l2', 'LR__warm_start': True}\n",
      "----------\n",
      "Model  LR  for 20 news  SVD-2 score = 0.1695  runtime = 0.4302 s\n",
      "Model  LR  for 20 news   SVD-2 best params {'LR__penalty': 'l2', 'LR__warm_start': True}\n",
      "Model  LR  for IMDB  SVD-2 score = 0.8830  runtime = 0.4302 s\n",
      "Model  LR  for IMDB  SVD-2  best params {'LR__penalty': 'l2', 'LR__warm_start': True}\n",
      "----------\n",
      "Model  LR  for 20 news  SVD-3 score = 0.2475  runtime = 0.8066 s\n",
      "Model  LR  for 20 news   SVD-3 best params {'LR__penalty': 'l2', 'LR__warm_start': True}\n",
      "Model  LR  for IMDB  SVD-3 score = 0.8830  runtime = 0.8066 s\n",
      "Model  LR  for IMDB  SVD-3  best params {'LR__penalty': 'l2', 'LR__warm_start': True}\n",
      "----------\n",
      "Model  LR  for 20 news  SVD-4 score = 0.3095  runtime = 0.7786 s\n",
      "Model  LR  for 20 news   SVD-4 best params {'LR__penalty': 'l2', 'LR__warm_start': True}\n",
      "Model  LR  for IMDB  SVD-4 score = 0.8830  runtime = 0.7786 s\n",
      "Model  LR  for IMDB  SVD-4  best params {'LR__penalty': 'l2', 'LR__warm_start': True}\n",
      "----------\n",
      "Model  LR  for 20 news  SVD-5 score = 0.3532  runtime = 0.7359 s\n",
      "Model  LR  for 20 news   SVD-5 best params {'LR__penalty': 'l2', 'LR__warm_start': True}\n",
      "Model  LR  for IMDB  SVD-5 score = 0.8830  runtime = 0.7359 s\n",
      "Model  LR  for IMDB  SVD-5  best params {'LR__penalty': 'l2', 'LR__warm_start': True}\n",
      "----------\n",
      "Model  LR  for 20 news  SVD-6 score = 0.3776  runtime = 0.6678 s\n",
      "Model  LR  for 20 news   SVD-6 best params {'LR__penalty': 'l2', 'LR__warm_start': True}\n",
      "Model  LR  for IMDB  SVD-6 score = 0.8830  runtime = 0.6678 s\n",
      "Model  LR  for IMDB  SVD-6  best params {'LR__penalty': 'l2', 'LR__warm_start': True}\n",
      "----------\n",
      "####################\n",
      "Model  DT  for 20 news  tf-idf score = 0.4817  runtime = 13.2001 s\n",
      "Model  DT  for 20 news   tf-idf best params {'DT__criterion': 'gini', 'DT__max_features': None}\n",
      "Model  DT  for IMDB  tf-idf score = 0.7024  runtime = 13.2001 s\n",
      "Model  DT  for IMDB  tf-idf  best params {'DT__criterion': 'gini', 'DT__max_features': None}\n",
      "----------\n",
      "Model  DT  for 20 news  tf-idf, remove stopping word score = 0.5021  runtime = 11.7439 s\n",
      "Model  DT  for 20 news   tf-idf, remove stopping word best params {'DT__criterion': 'gini', 'DT__max_features': None}\n",
      "Model  DT  for IMDB  tf-idf, remove stopping word score = 0.7155  runtime = 11.7439 s\n",
      "Model  DT  for IMDB  tf-idf, remove stopping word  best params {'DT__criterion': 'gini', 'DT__max_features': None}\n",
      "----------\n",
      "Model  DT  for 20 news  SVD-2 score = 0.1358  runtime = 0.0202 s\n",
      "Model  DT  for 20 news   SVD-2 best params {'DT__criterion': 'gini', 'DT__max_features': 'sqrt'}\n",
      "Model  DT  for IMDB  SVD-2 score = 0.7170  runtime = 0.0202 s\n",
      "Model  DT  for IMDB  SVD-2  best params {'DT__criterion': 'entropy', 'DT__max_features': None}\n",
      "----------\n",
      "Model  DT  for 20 news  SVD-3 score = 0.1948  runtime = 0.0463 s\n",
      "Model  DT  for 20 news   SVD-3 best params {'DT__criterion': 'gini', 'DT__max_features': None}\n",
      "Model  DT  for IMDB  SVD-3 score = 0.7222  runtime = 0.0463 s\n",
      "Model  DT  for IMDB  SVD-3  best params {'DT__criterion': 'entropy', 'DT__max_features': None}\n",
      "----------\n",
      "Model  DT  for 20 news  SVD-4 score = 0.2647  runtime = 0.2778 s\n",
      "Model  DT  for 20 news   SVD-4 best params {'DT__criterion': 'entropy', 'DT__max_features': None}\n",
      "Model  DT  for IMDB  SVD-4 score = 0.7107  runtime = 0.2778 s\n",
      "Model  DT  for IMDB  SVD-4  best params {'DT__criterion': 'gini', 'DT__max_features': None}\n",
      "----------\n",
      "Model  DT  for 20 news  SVD-5 score = 0.2959  runtime = 0.0718 s\n",
      "Model  DT  for 20 news   SVD-5 best params {'DT__criterion': 'gini', 'DT__max_features': None}\n",
      "Model  DT  for IMDB  SVD-5 score = 0.7182  runtime = 0.0718 s\n",
      "Model  DT  for IMDB  SVD-5  best params {'DT__criterion': 'entropy', 'DT__max_features': None}\n",
      "----------\n",
      "Model  DT  for 20 news  SVD-6 score = 0.3367  runtime = 0.3730 s\n",
      "Model  DT  for 20 news   SVD-6 best params {'DT__criterion': 'entropy', 'DT__max_features': None}\n",
      "Model  DT  for IMDB  SVD-6 score = 0.7123  runtime = 0.3730 s\n",
      "Model  DT  for IMDB  SVD-6  best params {'DT__criterion': 'gini', 'DT__max_features': None}\n",
      "----------\n",
      "####################\n",
      "Model  SVC  for 20 news  tf-idf score = 0.8036  runtime = 1.2453 s\n",
      "Model  SVC  for 20 news   tf-idf best params {'SVC__loss': 'squared_hinge', 'SVC__penalty': 'l2'}\n",
      "Model  SVC  for IMDB  tf-idf score = 0.8826  runtime = 1.2453 s\n",
      "Model  SVC  for IMDB  tf-idf  best params {'SVC__loss': 'hinge', 'SVC__penalty': 'l2'}\n",
      "----------\n",
      "Model  SVC  for 20 news  tf-idf, remove stopping word score = 0.8027  runtime = 2.8900 s\n",
      "Model  SVC  for 20 news   tf-idf, remove stopping word best params {'SVC__loss': 'hinge', 'SVC__penalty': 'l2'}\n",
      "Model  SVC  for IMDB  tf-idf, remove stopping word score = 0.8780  runtime = 2.8900 s\n",
      "Model  SVC  for IMDB  tf-idf, remove stopping word  best params {'SVC__loss': 'hinge', 'SVC__penalty': 'l2'}\n",
      "----------\n",
      "Model  SVC  for 20 news  SVD-2 score = 0.1537  runtime = 0.2182 s\n",
      "Model  SVC  for 20 news   SVD-2 best params {'SVC__loss': 'squared_hinge', 'SVC__penalty': 'l2'}\n",
      "Model  SVC  for IMDB  SVD-2 score = 0.8780  runtime = 0.2182 s\n",
      "Model  SVC  for IMDB  SVD-2  best params {'SVC__loss': 'hinge', 'SVC__penalty': 'l2'}\n",
      "----------\n",
      "Model  SVC  for 20 news  SVD-3 score = 0.2472  runtime = 0.2279 s\n",
      "Model  SVC  for 20 news   SVD-3 best params {'SVC__loss': 'squared_hinge', 'SVC__penalty': 'l2'}\n",
      "Model  SVC  for IMDB  SVD-3 score = 0.8780  runtime = 0.2279 s\n",
      "Model  SVC  for IMDB  SVD-3  best params {'SVC__loss': 'hinge', 'SVC__penalty': 'l2'}\n",
      "----------\n",
      "Model  SVC  for 20 news  SVD-4 score = 0.2959  runtime = 0.2235 s\n",
      "Model  SVC  for 20 news   SVD-4 best params {'SVC__loss': 'squared_hinge', 'SVC__penalty': 'l2'}\n",
      "Model  SVC  for IMDB  SVD-4 score = 0.8780  runtime = 0.2235 s\n",
      "Model  SVC  for IMDB  SVD-4  best params {'SVC__loss': 'hinge', 'SVC__penalty': 'l2'}\n",
      "----------\n",
      "Model  SVC  for 20 news  SVD-5 score = 0.3269  runtime = 0.2547 s\n",
      "Model  SVC  for 20 news   SVD-5 best params {'SVC__loss': 'squared_hinge', 'SVC__penalty': 'l2'}\n",
      "Model  SVC  for IMDB  SVD-5 score = 0.8780  runtime = 0.2547 s\n",
      "Model  SVC  for IMDB  SVD-5  best params {'SVC__loss': 'hinge', 'SVC__penalty': 'l2'}\n",
      "----------\n",
      "Model  SVC  for 20 news  SVD-6 score = 0.3528  runtime = 0.2449 s\n",
      "Model  SVC  for 20 news   SVD-6 best params {'SVC__loss': 'squared_hinge', 'SVC__penalty': 'l2'}\n",
      "Model  SVC  for IMDB  SVD-6 score = 0.8780  runtime = 0.2449 s\n",
      "Model  SVC  for IMDB  SVD-6  best params {'SVC__loss': 'hinge', 'SVC__penalty': 'l2'}\n",
      "----------\n",
      "####################\n"
     ]
    },
    {
     "name": "stdout",
     "output_type": "stream",
     "text": [
      "Model  ADB  for 20 news  tf-idf score = 0.5046  runtime = 16.8110 s\n",
      "Model  ADB  for 20 news   tf-idf best params {'ADB__learning_rate': 0.6000000000000001, 'ADB__n_estimators': 100}\n",
      "Model  ADB  for IMDB  tf-idf score = 0.8357  runtime = 16.8110 s\n",
      "Model  ADB  for IMDB  tf-idf  best params {'ADB__learning_rate': 0.6000000000000001, 'ADB__n_estimators': 120}\n",
      "----------\n",
      "Model  ADB  for 20 news  tf-idf, remove stopping word score = 0.5127  runtime = 15.1223 s\n",
      "Model  ADB  for 20 news   tf-idf, remove stopping word best params {'ADB__learning_rate': 0.4, 'ADB__n_estimators': 120}\n",
      "Model  ADB  for IMDB  tf-idf, remove stopping word score = 0.8359  runtime = 15.1223 s\n",
      "Model  ADB  for IMDB  tf-idf, remove stopping word  best params {'ADB__learning_rate': 0.6000000000000001, 'ADB__n_estimators': 120}\n",
      "----------\n",
      "Model  ADB  for 20 news  SVD-2 score = 0.1483  runtime = 0.2544 s\n",
      "Model  ADB  for 20 news   SVD-2 best params {'ADB__learning_rate': 0.4, 'ADB__n_estimators': 30}\n",
      "Model  ADB  for IMDB  SVD-2 score = 0.8359  runtime = 0.2544 s\n",
      "Model  ADB  for IMDB  SVD-2  best params {'ADB__learning_rate': 0.6000000000000001, 'ADB__n_estimators': 120}\n",
      "----------\n",
      "Model  ADB  for 20 news  SVD-3 score = 0.2055  runtime = 1.1540 s\n",
      "Model  ADB  for 20 news   SVD-3 best params {'ADB__learning_rate': 0.2, 'ADB__n_estimators': 120}\n"
     ]
    }
   ],
   "source": [
    "# Gridsearch and record scores and runtime\n",
    "grid_dict_20 = {'NB':None,'LR': None,'DT':None,'SVC':None,'ADB':None,'RDF':None}\n",
    "grid_dict_imdb = {'NB':None,'LR': None,'DT':None,'SVC':None,'ADB':None,'RDF':None}\n",
    "scores = np.zeros((2,len(models_list),len(dataset_list)))\n",
    "runtimes_best_models = np.zeros((2,len(models_list),len(dataset_list)))\n",
    "\n",
    "k = 5 # Magic number\n",
    "n_jobs =5\n",
    "\n",
    "for idx,model_item in tqdm_notebook(enumerate(models_list),total=len(models_list)):\n",
    "    pipline = Pipeline([model_item])\n",
    "    print('#'*20)\n",
    "    # For 20 news\n",
    "    grid_20 = GridSearchCV(pipline,param_grid=params_list[idx],cv=k,\n",
    "                        error_score=0.0,n_jobs=n_jobs,refit=True)\n",
    "    # For imdb\n",
    "    grid_imdb = GridSearchCV(pipline,param_grid=params_list[idx],cv=k,\n",
    "                        error_score=0.0,n_jobs=n_jobs,refit=True)\n",
    "    \n",
    "    for dataset_idx in range(len(twenty_dataset_dict)):\n",
    "        try:\n",
    "            grid_20.fit(twenty_dataset_dict[dataset_idx][0],twenty_dataset_dict[dataset_idx][1])\n",
    "            scores[0,idx,dataset_idx] = grid_20.score(twenty_dataset_dict[dataset_idx][2], twenty_dataset_dict[dataset_idx][3])\n",
    "            runtimes_best_models[0,idx,dataset_idx] = grid_20.refit_time_\n",
    "            print('Model ',model_item[0],' for 20 news ' , dataset_list[dataset_idx] , 'score = %3.4f'%(scores[0,idx,dataset_idx]),' runtime = %3.4f s'%(runtimes_best_models[0,idx,dataset_idx]))\n",
    "            print('Model ',model_item[0],' for 20 news  ' , dataset_list[dataset_idx] ,'best params', grid_20.best_params_)\n",
    "            if grid_dict_20[model_item[0]] is None or scores[0,idx,dataset_idx]>grid_dict_20[model_item[0]].score(twenty_dataset_dict[dataset_idx][2], twenty_dataset_dict[dataset_idx][3]):\n",
    "                grid_dict_20[model_item[0]] = grid_20\n",
    "\n",
    "\n",
    "\n",
    "            grid_imdb.fit(IMDB_dataset_dict[dataset_idx][0],IMDB_dataset_dict[dataset_idx][1])\n",
    "            scores[1,idx,dataset_idx] = grid_imdb.score(IMDB_dataset_dict[dataset_idx][2], IMDB_dataset_dict[dataset_idx][3])\n",
    "            runtimes_best_models[1,idx,dataset_idx] = grid_imdb.refit_time_\n",
    "            print('Model ',model_item[0],' for IMDB ' , dataset_list[dataset_idx],'score = %3.4f'%(scores[1,idx,dataset_idx]),' runtime = %3.4f s'%(runtimes_best_models[0,idx,dataset_idx]))\n",
    "            print('Model ',model_item[0],' for IMDB ' , dataset_list[dataset_idx] ,' best params', grid_imdb.best_params_)\n",
    "            if grid_dict_imdb[model_item[0]] is None or scores[1,idx,dataset_idx]>grid_dict_imdb[model_item[0]].score(IMDB_dataset_dict[dataset_idx][2], IMDB_dataset_dict[dataset_idx][3]):\n",
    "                grid_dict_imdb[model_item[0]] = grid_imdb\n",
    "        except ValueError as e:\n",
    "            print('Model ',model_item[0], ' is not suitable for non-negative value in preprocessing ',dataset_list[dataset_idx])\n",
    "        print('-'*10)\n",
    "        \n",
    "joblib.dump(grid_dict_20,'dump_model_joblib/grid_dict_20_tuned_2.joblib')\n",
    "joblib.dump(grid_dict_imdb,'dump_model_joblib/grid_dict_imdb_tuned_2.joblib')\n",
    "joblib.dump(scores,'dump_model_joblib/scores_tuned_2.joblib')\n",
    "joblib.dump(runtimes_best_models,'dump_model_joblib/runtimes_best_models_tuned_2.joblib')"
   ]
  },
  {
   "cell_type": "code",
   "execution_count": 60,
   "metadata": {
    "scrolled": false
   },
   "outputs": [
    {
     "data": {
      "application/vnd.jupyter.widget-view+json": {
       "model_id": "f4abd28d2477481ea76ee316ecf8066d",
       "version_major": 2,
       "version_minor": 0
      },
      "text/plain": [
       "HBox(children=(FloatProgress(value=0.0, max=6.0), HTML(value='')))"
      ]
     },
     "metadata": {},
     "output_type": "display_data"
    },
    {
     "name": "stdout",
     "output_type": "stream",
     "text": [
      "####################\n",
      "Model  NB  for 20 news  tf-idf score = 0.7463  runtime = 0.0744 s\n",
      "Model  NB  for 20 news   tf-idf best params {'NB__alpha': 0.0, 'NB__fit_prior': True}\n",
      "Model  NB  for IMDB  tf-idf score = 0.8317  runtime = 0.0744 s\n",
      "Model  NB  for IMDB  tf-idf  best params {'NB__alpha': 1.8, 'NB__fit_prior': True}\n",
      "----------\n",
      "Model  NB  for 20 news  tf-idf, remove stopping word score = 0.7979  runtime = 0.0601 s\n",
      "Model  NB  for 20 news   tf-idf, remove stopping word best params {'NB__alpha': 0.2, 'NB__fit_prior': False}\n",
      "Model  NB  for IMDB  tf-idf, remove stopping word score = 0.8380  runtime = 0.0601 s\n",
      "Model  NB  for IMDB  tf-idf, remove stopping word  best params {'NB__alpha': 1.8, 'NB__fit_prior': True}\n",
      "----------\n",
      "Model  NB  is not suitable for non-negative value in preprocessing  SVD-2\n",
      "----------\n",
      "Model  NB  is not suitable for non-negative value in preprocessing  SVD-3\n",
      "----------\n",
      "Model  NB  is not suitable for non-negative value in preprocessing  SVD-4\n",
      "----------\n",
      "Model  NB  is not suitable for non-negative value in preprocessing  SVD-5\n",
      "----------\n",
      "Model  NB  is not suitable for non-negative value in preprocessing  SVD-6\n",
      "----------\n",
      "####################\n",
      "Model  LR  for 20 news  tf-idf score = 0.7776  runtime = 26.9467 s\n",
      "Model  LR  for 20 news   tf-idf best params {'LR__penalty': 'l2', 'LR__warm_start': True}\n",
      "Model  LR  for IMDB  tf-idf score = 0.8832  runtime = 26.9467 s\n",
      "Model  LR  for IMDB  tf-idf  best params {'LR__penalty': 'l2', 'LR__warm_start': True}\n",
      "----------\n",
      "Model  LR  for 20 news  tf-idf, remove stopping word score = 0.7894  runtime = 26.7274 s\n",
      "Model  LR  for 20 news   tf-idf, remove stopping word best params {'LR__penalty': 'l2', 'LR__warm_start': True}\n",
      "Model  LR  for IMDB  tf-idf, remove stopping word score = 0.8830  runtime = 26.7274 s\n",
      "Model  LR  for IMDB  tf-idf, remove stopping word  best params {'LR__penalty': 'l2', 'LR__warm_start': True}\n",
      "----------\n",
      "Model  LR  for 20 news  SVD-2 score = 0.1695  runtime = 0.4292 s\n",
      "Model  LR  for 20 news   SVD-2 best params {'LR__penalty': 'l2', 'LR__warm_start': True}\n",
      "Model  LR  for IMDB  SVD-2 score = 0.8830  runtime = 0.4292 s\n",
      "Model  LR  for IMDB  SVD-2  best params {'LR__penalty': 'l2', 'LR__warm_start': True}\n",
      "----------\n",
      "Model  LR  for 20 news  SVD-3 score = 0.2475  runtime = 0.6357 s\n",
      "Model  LR  for 20 news   SVD-3 best params {'LR__penalty': 'l2', 'LR__warm_start': True}\n",
      "Model  LR  for IMDB  SVD-3 score = 0.8830  runtime = 0.6357 s\n",
      "Model  LR  for IMDB  SVD-3  best params {'LR__penalty': 'l2', 'LR__warm_start': True}\n",
      "----------\n",
      "Model  LR  for 20 news  SVD-4 score = 0.3095  runtime = 0.7613 s\n",
      "Model  LR  for 20 news   SVD-4 best params {'LR__penalty': 'l2', 'LR__warm_start': True}\n",
      "Model  LR  for IMDB  SVD-4 score = 0.8830  runtime = 0.7613 s\n",
      "Model  LR  for IMDB  SVD-4  best params {'LR__penalty': 'l2', 'LR__warm_start': True}\n",
      "----------\n",
      "Model  LR  for 20 news  SVD-5 score = 0.3532  runtime = 0.7709 s\n",
      "Model  LR  for 20 news   SVD-5 best params {'LR__penalty': 'l2', 'LR__warm_start': True}\n",
      "Model  LR  for IMDB  SVD-5 score = 0.8830  runtime = 0.7709 s\n",
      "Model  LR  for IMDB  SVD-5  best params {'LR__penalty': 'l2', 'LR__warm_start': True}\n",
      "----------\n",
      "Model  LR  for 20 news  SVD-6 score = 0.3776  runtime = 0.6676 s\n",
      "Model  LR  for 20 news   SVD-6 best params {'LR__penalty': 'l2', 'LR__warm_start': True}\n",
      "Model  LR  for IMDB  SVD-6 score = 0.8830  runtime = 0.6676 s\n",
      "Model  LR  for IMDB  SVD-6  best params {'LR__penalty': 'l2', 'LR__warm_start': True}\n",
      "----------\n",
      "####################\n",
      "Model  DT  for 20 news  tf-idf score = 0.4818  runtime = 12.6552 s\n",
      "Model  DT  for 20 news   tf-idf best params {'DT__criterion': 'gini', 'DT__max_features': None}\n",
      "Model  DT  for IMDB  tf-idf score = 0.7038  runtime = 12.6552 s\n",
      "Model  DT  for IMDB  tf-idf  best params {'DT__criterion': 'entropy', 'DT__max_features': None}\n",
      "----------\n",
      "Model  DT  for 20 news  tf-idf, remove stopping word score = 0.5073  runtime = 10.2424 s\n",
      "Model  DT  for 20 news   tf-idf, remove stopping word best params {'DT__criterion': 'gini', 'DT__max_features': None}\n",
      "Model  DT  for IMDB  tf-idf, remove stopping word score = 0.7208  runtime = 10.2424 s\n",
      "Model  DT  for IMDB  tf-idf, remove stopping word  best params {'DT__criterion': 'entropy', 'DT__max_features': None}\n",
      "----------\n",
      "Model  DT  for 20 news  SVD-2 score = 0.1377  runtime = 0.0834 s\n",
      "Model  DT  for 20 news   SVD-2 best params {'DT__criterion': 'entropy', 'DT__max_features': 'log2'}\n",
      "Model  DT  for IMDB  SVD-2 score = 0.7190  runtime = 0.0834 s\n",
      "Model  DT  for IMDB  SVD-2  best params {'DT__criterion': 'entropy', 'DT__max_features': None}\n",
      "----------\n",
      "Model  DT  for 20 news  SVD-3 score = 0.2018  runtime = 0.1978 s\n",
      "Model  DT  for 20 news   SVD-3 best params {'DT__criterion': 'entropy', 'DT__max_features': None}\n",
      "Model  DT  for IMDB  SVD-3 score = 0.7156  runtime = 0.1978 s\n",
      "Model  DT  for IMDB  SVD-3  best params {'DT__criterion': 'entropy', 'DT__max_features': None}\n",
      "----------\n",
      "Model  DT  for 20 news  SVD-4 score = 0.2601  runtime = 0.0587 s\n",
      "Model  DT  for 20 news   SVD-4 best params {'DT__criterion': 'gini', 'DT__max_features': None}\n",
      "Model  DT  for IMDB  SVD-4 score = 0.7212  runtime = 0.0587 s\n",
      "Model  DT  for IMDB  SVD-4  best params {'DT__criterion': 'entropy', 'DT__max_features': None}\n",
      "----------\n",
      "Model  DT  for 20 news  SVD-5 score = 0.2935  runtime = 0.0691 s\n",
      "Model  DT  for 20 news   SVD-5 best params {'DT__criterion': 'gini', 'DT__max_features': None}\n",
      "Model  DT  for IMDB  SVD-5 score = 0.7125  runtime = 0.0691 s\n",
      "Model  DT  for IMDB  SVD-5  best params {'DT__criterion': 'gini', 'DT__max_features': None}\n",
      "----------\n",
      "Model  DT  for 20 news  SVD-6 score = 0.3372  runtime = 0.3867 s\n",
      "Model  DT  for 20 news   SVD-6 best params {'DT__criterion': 'entropy', 'DT__max_features': None}\n",
      "Model  DT  for IMDB  SVD-6 score = 0.7194  runtime = 0.3867 s\n",
      "Model  DT  for IMDB  SVD-6  best params {'DT__criterion': 'entropy', 'DT__max_features': None}\n",
      "----------\n",
      "####################\n",
      "Model  SVC  for 20 news  tf-idf score = 0.8036  runtime = 1.1641 s\n",
      "Model  SVC  for 20 news   tf-idf best params {'SVC__loss': 'squared_hinge', 'SVC__penalty': 'l2'}\n",
      "Model  SVC  for IMDB  tf-idf score = 0.8826  runtime = 1.1641 s\n",
      "Model  SVC  for IMDB  tf-idf  best params {'SVC__loss': 'hinge', 'SVC__penalty': 'l2'}\n",
      "----------\n",
      "Model  SVC  for 20 news  tf-idf, remove stopping word score = 0.8027  runtime = 2.7267 s\n",
      "Model  SVC  for 20 news   tf-idf, remove stopping word best params {'SVC__loss': 'hinge', 'SVC__penalty': 'l2'}\n",
      "Model  SVC  for IMDB  tf-idf, remove stopping word score = 0.8780  runtime = 2.7267 s\n",
      "Model  SVC  for IMDB  tf-idf, remove stopping word  best params {'SVC__loss': 'hinge', 'SVC__penalty': 'l2'}\n",
      "----------\n",
      "Model  SVC  for 20 news  SVD-2 score = 0.1539  runtime = 0.2104 s\n",
      "Model  SVC  for 20 news   SVD-2 best params {'SVC__loss': 'squared_hinge', 'SVC__penalty': 'l2'}\n",
      "Model  SVC  for IMDB  SVD-2 score = 0.8780  runtime = 0.2104 s\n",
      "Model  SVC  for IMDB  SVD-2  best params {'SVC__loss': 'hinge', 'SVC__penalty': 'l2'}\n",
      "----------\n",
      "Model  SVC  for 20 news  SVD-3 score = 0.2472  runtime = 0.2109 s\n",
      "Model  SVC  for 20 news   SVD-3 best params {'SVC__loss': 'squared_hinge', 'SVC__penalty': 'l2'}\n",
      "Model  SVC  for IMDB  SVD-3 score = 0.8780  runtime = 0.2109 s\n",
      "Model  SVC  for IMDB  SVD-3  best params {'SVC__loss': 'hinge', 'SVC__penalty': 'l2'}\n",
      "----------\n",
      "Model  SVC  for 20 news  SVD-4 score = 0.2959  runtime = 0.2110 s\n",
      "Model  SVC  for 20 news   SVD-4 best params {'SVC__loss': 'squared_hinge', 'SVC__penalty': 'l2'}\n",
      "Model  SVC  for IMDB  SVD-4 score = 0.8780  runtime = 0.2110 s\n",
      "Model  SVC  for IMDB  SVD-4  best params {'SVC__loss': 'hinge', 'SVC__penalty': 'l2'}\n",
      "----------\n",
      "Model  SVC  for 20 news  SVD-5 score = 0.3269  runtime = 0.2307 s\n",
      "Model  SVC  for 20 news   SVD-5 best params {'SVC__loss': 'squared_hinge', 'SVC__penalty': 'l2'}\n",
      "Model  SVC  for IMDB  SVD-5 score = 0.8780  runtime = 0.2307 s\n",
      "Model  SVC  for IMDB  SVD-5  best params {'SVC__loss': 'hinge', 'SVC__penalty': 'l2'}\n",
      "----------\n",
      "Model  SVC  for 20 news  SVD-6 score = 0.3528  runtime = 0.2380 s\n",
      "Model  SVC  for 20 news   SVD-6 best params {'SVC__loss': 'squared_hinge', 'SVC__penalty': 'l2'}\n",
      "Model  SVC  for IMDB  SVD-6 score = 0.8780  runtime = 0.2380 s\n",
      "Model  SVC  for IMDB  SVD-6  best params {'SVC__loss': 'hinge', 'SVC__penalty': 'l2'}\n",
      "----------\n",
      "####################\n"
     ]
    },
    {
     "name": "stdout",
     "output_type": "stream",
     "text": [
      "Model  ADB  for 20 news  tf-idf score = 0.5046  runtime = 15.8085 s\n",
      "Model  ADB  for 20 news   tf-idf best params {'ADB__learning_rate': 0.6000000000000001, 'ADB__n_estimators': 100}\n",
      "Model  ADB  for IMDB  tf-idf score = 0.8357  runtime = 15.8085 s\n",
      "Model  ADB  for IMDB  tf-idf  best params {'ADB__learning_rate': 0.6000000000000001, 'ADB__n_estimators': 120}\n",
      "----------\n",
      "Model  ADB  for 20 news  tf-idf, remove stopping word score = 0.5127  runtime = 16.2215 s\n",
      "Model  ADB  for 20 news   tf-idf, remove stopping word best params {'ADB__learning_rate': 0.4, 'ADB__n_estimators': 120}\n",
      "Model  ADB  for IMDB  tf-idf, remove stopping word score = 0.8359  runtime = 16.2215 s\n",
      "Model  ADB  for IMDB  tf-idf, remove stopping word  best params {'ADB__learning_rate': 0.6000000000000001, 'ADB__n_estimators': 120}\n",
      "----------\n",
      "Model  ADB  for 20 news  SVD-2 score = 0.1483  runtime = 0.2700 s\n",
      "Model  ADB  for 20 news   SVD-2 best params {'ADB__learning_rate': 0.4, 'ADB__n_estimators': 30}\n",
      "Model  ADB  for IMDB  SVD-2 score = 0.8359  runtime = 0.2700 s\n",
      "Model  ADB  for IMDB  SVD-2  best params {'ADB__learning_rate': 0.6000000000000001, 'ADB__n_estimators': 120}\n",
      "----------\n",
      "Model  ADB  for 20 news  SVD-3 score = 0.2055  runtime = 1.1526 s\n",
      "Model  ADB  for 20 news   SVD-3 best params {'ADB__learning_rate': 0.2, 'ADB__n_estimators': 120}\n",
      "Model  ADB  for IMDB  SVD-3 score = 0.8359  runtime = 1.1526 s\n",
      "Model  ADB  for IMDB  SVD-3  best params {'ADB__learning_rate': 0.6000000000000001, 'ADB__n_estimators': 120}\n",
      "----------\n",
      "Model  ADB  for 20 news  SVD-4 score = 0.2804  runtime = 0.3237 s\n",
      "Model  ADB  for 20 news   SVD-4 best params {'ADB__learning_rate': 0.4, 'ADB__n_estimators': 30}\n",
      "Model  ADB  for IMDB  SVD-4 score = 0.8359  runtime = 0.3237 s\n",
      "Model  ADB  for IMDB  SVD-4  best params {'ADB__learning_rate': 0.6000000000000001, 'ADB__n_estimators': 120}\n",
      "----------\n",
      "Model  ADB  for 20 news  SVD-5 score = 0.3092  runtime = 0.3521 s\n",
      "Model  ADB  for 20 news   SVD-5 best params {'ADB__learning_rate': 0.6000000000000001, 'ADB__n_estimators': 30}\n",
      "Model  ADB  for IMDB  SVD-5 score = 0.8359  runtime = 0.3521 s\n",
      "Model  ADB  for IMDB  SVD-5  best params {'ADB__learning_rate': 0.6000000000000001, 'ADB__n_estimators': 120}\n",
      "----------\n",
      "Model  ADB  for 20 news  SVD-6 score = 0.3228  runtime = 0.6464 s\n",
      "Model  ADB  for 20 news   SVD-6 best params {'ADB__learning_rate': 0.4, 'ADB__n_estimators': 50}\n",
      "Model  ADB  for IMDB  SVD-6 score = 0.8359  runtime = 0.6464 s\n",
      "Model  ADB  for IMDB  SVD-6  best params {'ADB__learning_rate': 0.6000000000000001, 'ADB__n_estimators': 120}\n",
      "----------\n",
      "####################\n",
      "Model  RDF  for 20 news  tf-idf score = 0.7144  runtime = 13.8336 s\n",
      "Model  RDF  for 20 news   tf-idf best params {'RDF__max_depth': 60, 'RDF__n_estimators': 150}\n",
      "Model  RDF  for IMDB  tf-idf score = 0.8440  runtime = 13.8336 s\n",
      "Model  RDF  for IMDB  tf-idf  best params {'RDF__max_depth': 60, 'RDF__n_estimators': 150}\n",
      "----------\n",
      "Model  RDF  for 20 news  tf-idf, remove stopping word score = 0.7245  runtime = 10.0476 s\n",
      "Model  RDF  for 20 news   tf-idf, remove stopping word best params {'RDF__max_depth': 60, 'RDF__n_estimators': 150}\n",
      "Model  RDF  for IMDB  tf-idf, remove stopping word score = 0.8554  runtime = 10.0476 s\n",
      "Model  RDF  for IMDB  tf-idf, remove stopping word  best params {'RDF__max_depth': 60, 'RDF__n_estimators': 150}\n",
      "----------\n",
      "Model  RDF  for 20 news  SVD-2 score = 0.1573  runtime = 1.8279 s\n",
      "Model  RDF  for 20 news   SVD-2 best params {'RDF__max_depth': 20, 'RDF__n_estimators': 150}\n",
      "Model  RDF  for IMDB  SVD-2 score = 0.8556  runtime = 1.8279 s\n",
      "Model  RDF  for IMDB  SVD-2  best params {'RDF__max_depth': 60, 'RDF__n_estimators': 150}\n",
      "----------\n",
      "Model  RDF  for 20 news  SVD-3 score = 0.2549  runtime = 1.7927 s\n",
      "Model  RDF  for 20 news   SVD-3 best params {'RDF__max_depth': 20, 'RDF__n_estimators': 150}\n",
      "Model  RDF  for IMDB  SVD-3 score = 0.8534  runtime = 1.7927 s\n",
      "Model  RDF  for IMDB  SVD-3  best params {'RDF__max_depth': 60, 'RDF__n_estimators': 150}\n",
      "----------\n",
      "Model  RDF  for 20 news  SVD-4 score = 0.3355  runtime = 1.9575 s\n",
      "Model  RDF  for 20 news   SVD-4 best params {'RDF__max_depth': 20, 'RDF__n_estimators': 100}\n",
      "Model  RDF  for IMDB  SVD-4 score = 0.8567  runtime = 1.9575 s\n",
      "Model  RDF  for IMDB  SVD-4  best params {'RDF__max_depth': 60, 'RDF__n_estimators': 150}\n",
      "----------\n",
      "Model  RDF  for 20 news  SVD-5 score = 0.3909  runtime = 2.9379 s\n",
      "Model  RDF  for 20 news   SVD-5 best params {'RDF__max_depth': 60, 'RDF__n_estimators': 150}\n",
      "Model  RDF  for IMDB  SVD-5 score = 0.8558  runtime = 2.9379 s\n",
      "Model  RDF  for IMDB  SVD-5  best params {'RDF__max_depth': 60, 'RDF__n_estimators': 150}\n",
      "----------\n",
      "Model  RDF  for 20 news  SVD-6 score = 0.4361  runtime = 2.9147 s\n",
      "Model  RDF  for 20 news   SVD-6 best params {'RDF__max_depth': 20, 'RDF__n_estimators': 150}\n",
      "Model  RDF  for IMDB  SVD-6 score = 0.8537  runtime = 2.9147 s\n",
      "Model  RDF  for IMDB  SVD-6  best params {'RDF__max_depth': 60, 'RDF__n_estimators': 150}\n",
      "----------\n",
      "\n"
     ]
    },
    {
     "data": {
      "text/plain": [
       "['dump_model_joblib/runtimes_best_models_tuned.joblib']"
      ]
     },
     "execution_count": 60,
     "metadata": {},
     "output_type": "execute_result"
    }
   ],
   "source": [
    "# Gridsearch and record scores and runtime\n",
    "grid_dict_20 = {}\n",
    "grid_dict_imdb = {}\n",
    "scores = np.zeros((2,len(models_list),len(dataset_list)))\n",
    "runtimes_best_models = np.zeros((2,len(models_list),len(dataset_list)))\n",
    "\n",
    "k = 5 # Magic number\n",
    "n_jobs =5\n",
    "\n",
    "for idx,model_item in tqdm_notebook(enumerate(models_list),total=len(models_list)):\n",
    "    pipline = Pipeline([model_item])\n",
    "    print('#'*20)\n",
    "    # For 20 news\n",
    "    grid_20 = GridSearchCV(pipline,param_grid=params_list[idx],cv=k,\n",
    "                        error_score=0.0,n_jobs=n_jobs,refit=True)\n",
    "    # For imdb\n",
    "    grid_imdb = GridSearchCV(pipline,param_grid=params_list[idx],cv=k,\n",
    "                        error_score=0.0,n_jobs=n_jobs,refit=True)\n",
    "    \n",
    "    for dataset_idx in range(len(twenty_dataset_dict)):\n",
    "        try:\n",
    "            grid_20.fit(twenty_dataset_dict[dataset_idx][0],twenty_dataset_dict[dataset_idx][1])\n",
    "            scores[0,idx,dataset_idx] = grid_20.score(twenty_dataset_dict[dataset_idx][2], twenty_dataset_dict[dataset_idx][3])\n",
    "            runtimes_best_models[0,idx,dataset_idx] = grid_20.refit_time_\n",
    "            print('Model ',model_item[0],' for 20 news ' , dataset_list[dataset_idx] , 'score = %3.4f'%(scores[0,idx,dataset_idx]),' runtime = %3.4f s'%(runtimes_best_models[0,idx,dataset_idx]))\n",
    "            print('Model ',model_item[0],' for 20 news  ' , dataset_list[dataset_idx] ,'best params', grid_20.best_params_)\n",
    "            grid_dict_20[model_item[0]] = grid_20\n",
    "\n",
    "\n",
    "\n",
    "            grid_imdb.fit(IMDB_dataset_dict[dataset_idx][0],IMDB_dataset_dict[dataset_idx][1])\n",
    "            scores[1,idx,dataset_idx] = grid_imdb.score(IMDB_dataset_dict[dataset_idx][2], IMDB_dataset_dict[dataset_idx][3])\n",
    "            runtimes_best_models[1,idx,dataset_idx] = grid_imdb.refit_time_\n",
    "            print('Model ',model_item[0],' for IMDB ' , dataset_list[dataset_idx],'score = %3.4f'%(scores[1,idx,dataset_idx]),' runtime = %3.4f s'%(runtimes_best_models[0,idx,dataset_idx]))\n",
    "            print('Model ',model_item[0],' for IMDB ' , dataset_list[dataset_idx] ,' best params', grid_imdb.best_params_)\n",
    "            grid_dict_imdb[model_item[0]] = grid_imdb\n",
    "        except ValueError as e:\n",
    "            print('Model ',model_item[0], ' is not suitable for non-negative value in preprocessing ',dataset_list[dataset_idx])\n",
    "        print('-'*10)\n",
    "        \n",
    "joblib.dump(grid_dict_20,'dump_model_joblib/grid_dict_20_tuned.joblib')\n",
    "joblib.dump(grid_dict_imdb,'dump_model_joblib/grid_dict_imdb_tuned.joblib')\n",
    "joblib.dump(scores,'dump_model_joblib/scores_tuned.joblib')\n",
    "joblib.dump(runtimes_best_models,'dump_model_joblib/runtimes_best_models_tuned.joblib')"
   ]
  },
  {
   "cell_type": "markdown",
   "metadata": {},
   "source": [
    "## Models free from parameter tuning\n",
    "We train these computationally heavy model once and then save them for future ploting."
   ]
  },
  {
   "cell_type": "code",
   "execution_count": 61,
   "metadata": {},
   "outputs": [
    {
     "name": "stdout",
     "output_type": "stream",
     "text": [
      "True\n"
     ]
    }
   ],
   "source": [
    "clf_NN = MLPClassifier() # Computationally heavy to tune NN\n",
    "clf_XG = XGBClassifier()\n",
    "\n",
    "models_dict_notuning = {'NN':clf_NN,'XG':clf_XG}\n",
    "models_list_notuning = list(models_dict_notuning.items())\n",
    "\n",
    "# The model parameters are fixed\n",
    "para_NN = {'NN__solver':['lbfgs'], 'NN__hidden_layer_sizes' :[(30,1024)],'NN__max_iter':[5000] }\n",
    "para_XG = {'XG__learning_rate':[0.1]}\n",
    "\n",
    "params_list_notuning = [para_NN,para_XG]\n",
    "\n",
    "print( len(models_list_notuning) == len(params_list_notuning) )"
   ]
  },
  {
   "cell_type": "code",
   "execution_count": 62,
   "metadata": {},
   "outputs": [
    {
     "data": {
      "application/vnd.jupyter.widget-view+json": {
       "model_id": "177da63b49a14a69a0f7d5fc88e72f10",
       "version_major": 2,
       "version_minor": 0
      },
      "text/plain": [
       "HBox(children=(FloatProgress(value=0.0, max=2.0), HTML(value='')))"
      ]
     },
     "metadata": {},
     "output_type": "display_data"
    },
    {
     "name": "stdout",
     "output_type": "stream",
     "text": [
      "####################\n",
      "Model  NN  for 20 news  tf-idf score = 0.7577 s  runtime = 334.3029\n",
      "Model  NN  for 20 news   tf-idf best params {'NN__hidden_layer_sizes': (30, 1024), 'NN__max_iter': 5000, 'NN__solver': 'lbfgs'}\n",
      "Model  NN  for IMDB  tf-idf score = 0.8776 s  runtime = 334.3029\n",
      "Model  NN  for IMDB  tf-idf  best params {'NN__hidden_layer_sizes': (30, 1024), 'NN__max_iter': 5000, 'NN__solver': 'lbfgs'}\n",
      "----------\n",
      "Model  NN  for 20 news  tf-idf, remove stopping word score = 0.7379 s  runtime = 443.5841\n",
      "Model  NN  for 20 news   tf-idf, remove stopping word best params {'NN__hidden_layer_sizes': (30, 1024), 'NN__max_iter': 5000, 'NN__solver': 'lbfgs'}\n",
      "Model  NN  for IMDB  tf-idf, remove stopping word score = 0.8652 s  runtime = 443.5841\n",
      "Model  NN  for IMDB  tf-idf, remove stopping word  best params {'NN__hidden_layer_sizes': (30, 1024), 'NN__max_iter': 5000, 'NN__solver': 'lbfgs'}\n",
      "----------\n",
      "Model  NN  for 20 news  SVD-2 score = 0.1937 s  runtime = 1333.4267\n",
      "Model  NN  for 20 news   SVD-2 best params {'NN__hidden_layer_sizes': (30, 1024), 'NN__max_iter': 5000, 'NN__solver': 'lbfgs'}\n",
      "Model  NN  for IMDB  SVD-2 score = 0.8279 s  runtime = 1333.4267\n",
      "Model  NN  for IMDB  SVD-2  best params {'NN__hidden_layer_sizes': (30, 1024), 'NN__max_iter': 5000, 'NN__solver': 'lbfgs'}\n",
      "----------\n",
      "Model  NN  for 20 news  SVD-3 score = 0.2978 s  runtime = 1210.6215\n",
      "Model  NN  for 20 news   SVD-3 best params {'NN__hidden_layer_sizes': (30, 1024), 'NN__max_iter': 5000, 'NN__solver': 'lbfgs'}\n",
      "Model  NN  for IMDB  SVD-3 score = 0.8142 s  runtime = 1210.6215\n",
      "Model  NN  for IMDB  SVD-3  best params {'NN__hidden_layer_sizes': (30, 1024), 'NN__max_iter': 5000, 'NN__solver': 'lbfgs'}\n",
      "----------\n",
      "Model  NN  for 20 news  SVD-4 score = 0.3501 s  runtime = 1281.6882\n",
      "Model  NN  for 20 news   SVD-4 best params {'NN__hidden_layer_sizes': (30, 1024), 'NN__max_iter': 5000, 'NN__solver': 'lbfgs'}\n",
      "Model  NN  for IMDB  SVD-4 score = 0.8765 s  runtime = 1281.6882\n",
      "Model  NN  for IMDB  SVD-4  best params {'NN__hidden_layer_sizes': (30, 1024), 'NN__max_iter': 5000, 'NN__solver': 'lbfgs'}\n",
      "----------\n",
      "Model  NN  for 20 news  SVD-5 score = 0.3719 s  runtime = 1311.4809\n",
      "Model  NN  for 20 news   SVD-5 best params {'NN__hidden_layer_sizes': (30, 1024), 'NN__max_iter': 5000, 'NN__solver': 'lbfgs'}\n",
      "Model  NN  for IMDB  SVD-5 score = 0.8714 s  runtime = 1311.4809\n",
      "Model  NN  for IMDB  SVD-5  best params {'NN__hidden_layer_sizes': (30, 1024), 'NN__max_iter': 5000, 'NN__solver': 'lbfgs'}\n",
      "----------\n",
      "Model  NN  for 20 news  SVD-6 score = 0.4401 s  runtime = 1224.1606\n",
      "Model  NN  for 20 news   SVD-6 best params {'NN__hidden_layer_sizes': (30, 1024), 'NN__max_iter': 5000, 'NN__solver': 'lbfgs'}\n",
      "Model  NN  for IMDB  SVD-6 score = 0.8641 s  runtime = 1224.1606\n",
      "Model  NN  for IMDB  SVD-6  best params {'NN__hidden_layer_sizes': (30, 1024), 'NN__max_iter': 5000, 'NN__solver': 'lbfgs'}\n",
      "----------\n",
      "####################\n",
      "Model  XG  for 20 news  tf-idf score = 0.6717 s  runtime = 308.1586\n",
      "Model  XG  for 20 news   tf-idf best params {'XG__learning_rate': 0.1}\n",
      "Model  XG  for IMDB  tf-idf score = 0.8104 s  runtime = 308.1586\n",
      "Model  XG  for IMDB  tf-idf  best params {'XG__learning_rate': 0.1}\n",
      "----------\n",
      "Model  XG  for 20 news  tf-idf, remove stopping word score = 0.6755 s  runtime = 267.2528\n",
      "Model  XG  for 20 news   tf-idf, remove stopping word best params {'XG__learning_rate': 0.1}\n",
      "Model  XG  for IMDB  tf-idf, remove stopping word score = 0.8088 s  runtime = 267.2528\n",
      "Model  XG  for IMDB  tf-idf, remove stopping word  best params {'XG__learning_rate': 0.1}\n",
      "----------\n",
      "Model  XG  for 20 news  SVD-2 score = 0.1992 s  runtime = 3.3809\n",
      "Model  XG  for 20 news   SVD-2 best params {'XG__learning_rate': 0.1}\n",
      "Model  XG  for IMDB  SVD-2 score = 0.8088 s  runtime = 3.3809\n",
      "Model  XG  for IMDB  SVD-2  best params {'XG__learning_rate': 0.1}\n",
      "----------\n",
      "Model  XG  for 20 news  SVD-3 score = 0.2925 s  runtime = 4.1923\n",
      "Model  XG  for 20 news   SVD-3 best params {'XG__learning_rate': 0.1}\n",
      "Model  XG  for IMDB  SVD-3 score = 0.8088 s  runtime = 4.1923\n",
      "Model  XG  for IMDB  SVD-3  best params {'XG__learning_rate': 0.1}\n",
      "----------\n",
      "Model  XG  for 20 news  SVD-4 score = 0.3602 s  runtime = 5.1080\n",
      "Model  XG  for 20 news   SVD-4 best params {'XG__learning_rate': 0.1}\n",
      "Model  XG  for IMDB  SVD-4 score = 0.8088 s  runtime = 5.1080\n",
      "Model  XG  for IMDB  SVD-4  best params {'XG__learning_rate': 0.1}\n",
      "----------\n",
      "Model  XG  for 20 news  SVD-5 score = 0.3971 s  runtime = 5.9575\n",
      "Model  XG  for 20 news   SVD-5 best params {'XG__learning_rate': 0.1}\n",
      "Model  XG  for IMDB  SVD-5 score = 0.8088 s  runtime = 5.9575\n",
      "Model  XG  for IMDB  SVD-5  best params {'XG__learning_rate': 0.1}\n",
      "----------\n",
      "Model  XG  for 20 news  SVD-6 score = 0.4255 s  runtime = 6.7903\n",
      "Model  XG  for 20 news   SVD-6 best params {'XG__learning_rate': 0.1}\n",
      "Model  XG  for IMDB  SVD-6 score = 0.8088 s  runtime = 6.7903\n",
      "Model  XG  for IMDB  SVD-6  best params {'XG__learning_rate': 0.1}\n",
      "----------\n",
      "\n"
     ]
    },
    {
     "data": {
      "text/plain": [
       "['dump_model_joblib/runtimes_best_models_nottuned.joblib']"
      ]
     },
     "execution_count": 62,
     "metadata": {},
     "output_type": "execute_result"
    }
   ],
   "source": [
    "# Using the same strucuture above\n",
    "grid_dict_20 = {}\n",
    "grid_dict_imdb = {}\n",
    "scores = np.zeros((2,len(models_list_notuning),len(dataset_list)))\n",
    "runtimes_best_models = np.zeros((2,len(models_list_notuning),len(dataset_list)))\n",
    "\n",
    "k = 5 # Magic number\n",
    "n_jobs =5\n",
    "\n",
    "for idx,model_item in tqdm_notebook(enumerate(models_list_notuning),total=len(models_list_notuning)):\n",
    "    pipline = Pipeline([model_item])\n",
    "    print('#'*20)\n",
    "    # For 20 news\n",
    "    grid_20 = GridSearchCV(pipline,param_grid=params_list_notuning[idx],cv=k,\n",
    "                        error_score=0.0,n_jobs=n_jobs,refit=True)\n",
    "    # For imdb\n",
    "    grid_imdb = GridSearchCV(pipline,param_grid=params_list_notuning[idx],cv=k,\n",
    "                        error_score=0.0,n_jobs=n_jobs,refit=True)\n",
    "    \n",
    "    for dataset_idx in range(len(twenty_dataset_dict)):\n",
    "        try:\n",
    "            grid_20.fit(twenty_dataset_dict[dataset_idx][0],twenty_dataset_dict[dataset_idx][1])\n",
    "            scores[0,idx,dataset_idx] = grid_20.score(twenty_dataset_dict[dataset_idx][2], twenty_dataset_dict[dataset_idx][3])\n",
    "            runtimes_best_models[0,idx,dataset_idx] = grid_20.refit_time_\n",
    "            print('Model ',model_item[0],' for 20 news ' , dataset_list[dataset_idx] , 'score = %3.4f s'%(scores[0,idx,dataset_idx]),' runtime = %3.4f'%(runtimes_best_models[0,idx,dataset_idx]))\n",
    "            print('Model ',model_item[0],' for 20 news  ' , dataset_list[dataset_idx] ,'best params', grid_20.best_params_)\n",
    "            grid_dict_20[model_item[0]] = grid_20\n",
    "\n",
    "\n",
    "\n",
    "            grid_imdb.fit(IMDB_dataset_dict[dataset_idx][0],IMDB_dataset_dict[dataset_idx][1])\n",
    "            scores[1,idx,dataset_idx] = grid_imdb.score(IMDB_dataset_dict[dataset_idx][2], IMDB_dataset_dict[dataset_idx][3])\n",
    "            runtimes_best_models[1,idx,dataset_idx] = grid_imdb.refit_time_\n",
    "            print('Model ',model_item[0],' for IMDB ' , dataset_list[dataset_idx],'score = %3.4f s'%(scores[1,idx,dataset_idx]),' runtime = %3.4f'%(runtimes_best_models[0,idx,dataset_idx]))\n",
    "            print('Model ',model_item[0],' for IMDB ' , dataset_list[dataset_idx] ,' best params', grid_imdb.best_params_)\n",
    "            grid_dict_imdb[model_item[0]] = grid_imdb\n",
    "        except ValueError as e:\n",
    "            print('Model ',model_item[0], ' is not suitable for non-negative value in preprocessing ',dataset_list[dataset_idx])\n",
    "        print('-'*10)\n",
    "        \n",
    "joblib.dump(grid_dict_20,'dump_model_joblib/grid_dict_20_nottuned.joblib')\n",
    "joblib.dump(grid_dict_imdb,'dump_model_joblib/grid_dict_imdb_nottuned.joblib')\n",
    "joblib.dump(scores,'dump_model_joblib/scores_nottuned.joblib')\n",
    "joblib.dump(runtimes_best_models,'dump_model_joblib/runtimes_best_models_nottuned.joblib')"
   ]
  },
  {
   "cell_type": "markdown",
   "metadata": {},
   "source": [
    "# Plot experiment result"
   ]
  },
  {
   "cell_type": "code",
   "execution_count": null,
   "metadata": {},
   "outputs": [],
   "source": []
  },
  {
   "cell_type": "code",
   "execution_count": null,
   "metadata": {},
   "outputs": [],
   "source": []
  },
  {
   "cell_type": "markdown",
   "metadata": {},
   "source": [
    "## Accuracy comparison"
   ]
  },
  {
   "cell_type": "code",
   "execution_count": null,
   "metadata": {},
   "outputs": [],
   "source": []
  }
 ],
 "metadata": {
  "kernelspec": {
   "display_name": "Python 3",
   "language": "python",
   "name": "python3"
  },
  "language_info": {
   "codemirror_mode": {
    "name": "ipython",
    "version": 3
   },
   "file_extension": ".py",
   "mimetype": "text/x-python",
   "name": "python",
   "nbconvert_exporter": "python",
   "pygments_lexer": "ipython3",
   "version": "3.6.8"
  },
  "latex_envs": {
   "LaTeX_envs_menu_present": true,
   "autoclose": false,
   "autocomplete": true,
   "bibliofile": "biblio.bib",
   "cite_by": "apalike",
   "current_citInitial": 1,
   "eqLabelWithNumbers": true,
   "eqNumInitial": 1,
   "hotkeys": {
    "equation": "Ctrl-E",
    "itemize": "Ctrl-I"
   },
   "labels_anchors": false,
   "latex_user_defs": false,
   "report_style_numbering": false,
   "user_envs_cfg": false
  },
  "toc": {
   "base_numbering": 1,
   "nav_menu": {},
   "number_sections": true,
   "sideBar": true,
   "skip_h1_title": false,
   "title_cell": "Table of Contents",
   "title_sidebar": "Contents",
   "toc_cell": false,
   "toc_position": {},
   "toc_section_display": true,
   "toc_window_display": false
  }
 },
 "nbformat": 4,
 "nbformat_minor": 2
}
